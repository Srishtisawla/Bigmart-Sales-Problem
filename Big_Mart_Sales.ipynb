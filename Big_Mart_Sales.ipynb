{
  "nbformat": 4,
  "nbformat_minor": 0,
  "metadata": {
    "colab": {
      "name": "Big Mart Sales.ipynb",
      "version": "0.3.2",
      "provenance": [],
      "collapsed_sections": []
    },
    "kernelspec": {
      "display_name": "Python 2",
      "language": "python",
      "name": "python2"
    }
  },
  "cells": [
    {
      "cell_type": "markdown",
      "metadata": {
        "id": "view-in-github",
        "colab_type": "text"
      },
      "source": [
        "[View in Colaboratory](https://colab.research.google.com/github/Srishtisawla/Bigmart-Sales-Problem/blob/master/Big_Mart_Sales.ipynb)"
      ]
    },
    {
      "metadata": {
        "id": "p6TFDHWs7RQU",
        "colab_type": "code",
        "colab": {}
      },
      "cell_type": "code",
      "source": [
        "#importing files\n",
        "import pandas as pd\n",
        "import numpy as np\n",
        "from matplotlib import pyplot as plt\n",
        "import seaborn as sns\n",
        "from sklearn import model_selection,preprocessing,feature_selection\n",
        "from google.colab import files"
      ],
      "execution_count": 0,
      "outputs": []
    },
    {
      "metadata": {
        "id": "VdJiKHWp7RQZ",
        "colab_type": "code",
        "colab": {}
      },
      "cell_type": "code",
      "source": [
        "train_path = 'Train.csv'\n",
        "train_data = pd.read_csv(train_path)"
      ],
      "execution_count": 0,
      "outputs": []
    },
    {
      "metadata": {
        "id": "nFhHDFhs7RQd",
        "colab_type": "code",
        "colab": {}
      },
      "cell_type": "code",
      "source": [
        "X = train_data.iloc[:,:-1]\n",
        "y = train_data.iloc[:,-1]"
      ],
      "execution_count": 0,
      "outputs": []
    },
    {
      "metadata": {
        "id": "3VEsXG-x7RQh",
        "colab_type": "code",
        "colab": {}
      },
      "cell_type": "code",
      "source": [
        "#Train,validation data\n",
        "X_train,X_validation,y_train,y_validation = model_selection.train_test_split(X,y,test_size=0.2,random_state=45)"
      ],
      "execution_count": 0,
      "outputs": []
    },
    {
      "metadata": {
        "id": "kSzaFRJK7RQl",
        "colab_type": "code",
        "colab": {
          "base_uri": "https://localhost:8080/",
          "height": 85
        },
        "outputId": "88de9a8d-7d1e-4d09-d943-a4718cf0945f"
      },
      "cell_type": "code",
      "source": [
        "print X_train.shape\n",
        "print X_validation.shape\n",
        "print y_train.shape\n",
        "print y_validation.shape"
      ],
      "execution_count": 218,
      "outputs": [
        {
          "output_type": "stream",
          "text": [
            "(6818, 11)\n",
            "(1705, 11)\n",
            "(6818,)\n",
            "(1705,)\n"
          ],
          "name": "stdout"
        }
      ]
    },
    {
      "metadata": {
        "id": "9GpfgaHi7RQs",
        "colab_type": "code",
        "colab": {
          "base_uri": "https://localhost:8080/",
          "height": 289
        },
        "outputId": "90408364-1965-4923-b55f-c874f504788d"
      },
      "cell_type": "code",
      "source": [
        "#Checking missing values if any!\n",
        "X_train.info()"
      ],
      "execution_count": 219,
      "outputs": [
        {
          "output_type": "stream",
          "text": [
            "<class 'pandas.core.frame.DataFrame'>\n",
            "Int64Index: 6818 entries, 1984 to 7115\n",
            "Data columns (total 11 columns):\n",
            "Item_Identifier              6818 non-null object\n",
            "Item_Weight                  5660 non-null float64\n",
            "Item_Fat_Content             6818 non-null object\n",
            "Item_Visibility              6818 non-null float64\n",
            "Item_Type                    6818 non-null object\n",
            "Item_MRP                     6818 non-null float64\n",
            "Outlet_Identifier            6818 non-null object\n",
            "Outlet_Establishment_Year    6818 non-null int64\n",
            "Outlet_Size                  4854 non-null object\n",
            "Outlet_Location_Type         6818 non-null object\n",
            "Outlet_Type                  6818 non-null object\n",
            "dtypes: float64(3), int64(1), object(7)\n",
            "memory usage: 639.2+ KB\n"
          ],
          "name": "stdout"
        }
      ]
    },
    {
      "metadata": {
        "id": "SsXNfW677RQx",
        "colab_type": "code",
        "colab": {}
      },
      "cell_type": "code",
      "source": [
        "#Imputing mean values\n",
        "mean_values=X_train.groupby(['Item_Type'],as_index=False).mean()\n",
        "Weight_values_imputed=mean_values[['Item_Type','Item_Weight']]"
      ],
      "execution_count": 0,
      "outputs": []
    },
    {
      "metadata": {
        "id": "GwwxUZi27RQ1",
        "colab_type": "code",
        "colab": {
          "base_uri": "https://localhost:8080/",
          "height": 102
        },
        "outputId": "fd37413d-5ac9-40c4-b5c8-434d4e1af022"
      },
      "cell_type": "code",
      "source": [
        "X_train1 = pd.merge(X_train,Weight_values_imputed,how='left',left_on=['Item_Type'],right_on=['Item_Type'])\n",
        "X_train1['Item_Weight_x'][X_train1['Item_Weight_x'].isnull() ] = X_train1['Item_Weight_y']"
      ],
      "execution_count": 221,
      "outputs": [
        {
          "output_type": "stream",
          "text": [
            "/usr/local/lib/python2.7/dist-packages/ipykernel_launcher.py:2: SettingWithCopyWarning: \n",
            "A value is trying to be set on a copy of a slice from a DataFrame\n",
            "\n",
            "See the caveats in the documentation: http://pandas.pydata.org/pandas-docs/stable/indexing.html#indexing-view-versus-copy\n",
            "  \n"
          ],
          "name": "stderr"
        }
      ]
    },
    {
      "metadata": {
        "id": "MM2zcBzs7RQ5",
        "colab_type": "code",
        "colab": {}
      },
      "cell_type": "code",
      "source": [
        "X_train = X_train1.drop('Item_Weight_y',axis=1)"
      ],
      "execution_count": 0,
      "outputs": []
    },
    {
      "metadata": {
        "id": "aQaHe4kk7RQ9",
        "colab_type": "code",
        "colab": {}
      },
      "cell_type": "code",
      "source": [
        "X_train = X_train.rename(columns={'Item_Weight_x':'Item_Weight'})"
      ],
      "execution_count": 0,
      "outputs": []
    },
    {
      "metadata": {
        "id": "yu1eiGmY7RRB",
        "colab_type": "code",
        "colab": {
          "base_uri": "https://localhost:8080/",
          "height": 102
        },
        "outputId": "84da51c1-fc90-4a7e-8efa-9d8878c1371b"
      },
      "cell_type": "code",
      "source": [
        "X_train['Item_Visibility'][X_train['Item_Visibility']==0.00]=0.234260"
      ],
      "execution_count": 224,
      "outputs": [
        {
          "output_type": "stream",
          "text": [
            "/usr/local/lib/python2.7/dist-packages/ipykernel_launcher.py:1: SettingWithCopyWarning: \n",
            "A value is trying to be set on a copy of a slice from a DataFrame\n",
            "\n",
            "See the caveats in the documentation: http://pandas.pydata.org/pandas-docs/stable/indexing.html#indexing-view-versus-copy\n",
            "  \"\"\"Entry point for launching an IPython kernel.\n"
          ],
          "name": "stderr"
        }
      ]
    },
    {
      "metadata": {
        "id": "C0RZXzAo7RRF",
        "colab_type": "code",
        "colab": {}
      },
      "cell_type": "code",
      "source": [
        "X_train = X_train.drop('Outlet_Size',axis=1)\n",
        "X_train = X_train.drop('Outlet_Identifier',axis=1)"
      ],
      "execution_count": 0,
      "outputs": []
    },
    {
      "metadata": {
        "id": "R3CbnkqD7RRI",
        "colab_type": "code",
        "colab": {
          "base_uri": "https://localhost:8080/",
          "height": 255
        },
        "outputId": "e02b897e-3a4c-46c3-d7ef-5532d959c956"
      },
      "cell_type": "code",
      "source": [
        "X_train.info()"
      ],
      "execution_count": 226,
      "outputs": [
        {
          "output_type": "stream",
          "text": [
            "<class 'pandas.core.frame.DataFrame'>\n",
            "Int64Index: 6818 entries, 0 to 6817\n",
            "Data columns (total 9 columns):\n",
            "Item_Identifier              6818 non-null object\n",
            "Item_Weight                  6818 non-null float64\n",
            "Item_Fat_Content             6818 non-null object\n",
            "Item_Visibility              6818 non-null float64\n",
            "Item_Type                    6818 non-null object\n",
            "Item_MRP                     6818 non-null float64\n",
            "Outlet_Establishment_Year    6818 non-null int64\n",
            "Outlet_Location_Type         6818 non-null object\n",
            "Outlet_Type                  6818 non-null object\n",
            "dtypes: float64(3), int64(1), object(5)\n",
            "memory usage: 532.7+ KB\n"
          ],
          "name": "stdout"
        }
      ]
    },
    {
      "metadata": {
        "id": "p9O4UfwZ7RRO",
        "colab_type": "code",
        "colab": {}
      },
      "cell_type": "code",
      "source": [
        "numeric_feature_columns = list(X_train._get_numeric_data().columns)\n",
        "categorical_feature_columns = list(set(X_train.columns)-set(X_train._get_numeric_data().columns))\n",
        "for column in numeric_feature_columns:\n",
        "    if pd.unique(X_train[column]).shape[0] < np.sqrt(X_train.shape[0]):\n",
        "        categorical_feature_columns.append(column)\n",
        "        numeric_feature_columns.remove(column)"
      ],
      "execution_count": 0,
      "outputs": []
    },
    {
      "metadata": {
        "id": "XFAX5a1r7RRR",
        "colab_type": "code",
        "colab": {
          "base_uri": "https://localhost:8080/",
          "height": 85
        },
        "outputId": "6d8ebb8a-fb9e-427b-9ffc-ca438335f35b"
      },
      "cell_type": "code",
      "source": [
        "print \"numeric_feature_columns :\\n\",numeric_feature_columns\n",
        "print \"categorical_feature_columns :\\n\",categorical_feature_columns"
      ],
      "execution_count": 228,
      "outputs": [
        {
          "output_type": "stream",
          "text": [
            "numeric_feature_columns :\n",
            "['Item_Weight', 'Item_Visibility', 'Item_MRP']\n",
            "categorical_feature_columns :\n",
            "['Item_Type', 'Outlet_Location_Type', 'Outlet_Type', 'Item_Identifier', 'Item_Fat_Content', 'Outlet_Establishment_Year']\n"
          ],
          "name": "stdout"
        }
      ]
    },
    {
      "metadata": {
        "id": "Ua4_HAnE7RRW",
        "colab_type": "code",
        "colab": {
          "base_uri": "https://localhost:8080/",
          "height": 1442
        },
        "outputId": "6f379322-471d-4f43-c996-3a68fef30c29"
      },
      "cell_type": "code",
      "source": [
        "for i in range(0,len(numeric_feature_columns),2):\n",
        "\tif len(numeric_feature_columns)>i+1:\n",
        "\t\tplt.subplot(121)\n",
        "\t\tsns.distplot(X_train[numeric_feature_columns[i]], hist=True, kde=True)\n",
        "\t\tplt.subplot(122)\n",
        "\t\tsns.distplot(X_train[numeric_feature_columns[i+1]], hist=True, kde=True)\n",
        "\t\tplt.tight_layout()\n",
        "\telse:\n",
        "\t\tsns.distplot(X_train[numeric_feature_columns[i]], hist=True, kde=True)\n",
        "\tplt.show()\n",
        "for i in range(0,len(numeric_feature_columns),2):\n",
        "\tif len(numeric_feature_columns)>i+1:\n",
        "\t\tplt.subplot(121)\n",
        "\t\tsns.boxplot(None, numeric_feature_columns[i],data = X_train)\n",
        "\t\tplt.subplot(122)\n",
        "\t\tsns.boxplot(None, numeric_feature_columns[i+1],data = X_train)\n",
        "\t\tplt.tight_layout()\n",
        "\telse:\n",
        "\t\tsns.boxplot(None, numeric_feature_columns[i],data = X_train)\n",
        "\tplt.show()"
      ],
      "execution_count": 229,
      "outputs": [
        {
          "output_type": "display_data",
          "data": {
            "image/png": "[encoded data removed]",
            "text/plain": [
              "<matplotlib.figure.Figure at 0x7ff6b54d75d0>"
            ]
          },
          "metadata": {
            "tags": []
          }
        },
        {
          "output_type": "display_data",
          "data": {
            "image/png": "[encoded data removed]",
            "text/plain": [
              "<matplotlib.figure.Figure at 0x7ff6b3411690>"
            ]
          },
          "metadata": {
            "tags": []
          }
        },
        {
          "output_type": "display_data",
          "data": {
            "image/png": "[encoded data removed]",
            "text/plain": [
              "<matplotlib.figure.Figure at 0x7ff6b5489250>"
            ]
          },
          "metadata": {
            "tags": []
          }
        },
        {
          "output_type": "display_data",
          "data": {
            "image/png": "[encoded data removed]",
            "text/plain": [
              "<matplotlib.figure.Figure at 0x7ff6b3702e10>"
            ]
          },
          "metadata": {
            "tags": []
          }
        }
      ]
    },
    {
      "metadata": {
        "id": "apDP2JyB7RRc",
        "colab_type": "code",
        "colab": {}
      },
      "cell_type": "code",
      "source": [
        "X_train['Item_Visibility']=np.sqrt(X_train['Item_Visibility'])"
      ],
      "execution_count": 0,
      "outputs": []
    },
    {
      "metadata": {
        "id": "MhpAS4FVMYlf",
        "colab_type": "code",
        "colab": {}
      },
      "cell_type": "code",
      "source": [
        "X_train['Item_MRP']= preprocessing.maxabs_scale(X_train['Item_MRP'][:,np.newaxis])\n",
        "X_train['Item_Weight']= preprocessing.maxabs_scale(X_train['Item_Weight'][:,np.newaxis])"
      ],
      "execution_count": 0,
      "outputs": []
    },
    {
      "metadata": {
        "id": "YWMYQBoT7RRh",
        "colab_type": "code",
        "colab": {}
      },
      "cell_type": "code",
      "source": [
        "mean_weight = np.mean(X_train['Item_Weight'])\n",
        "std_weight = np.std(X_train['Item_Weight'])\n",
        "mean_mrp = np.mean(X_train['Item_MRP'])\n",
        "std_mrp = np.std(X_train['Item_MRP'])"
      ],
      "execution_count": 0,
      "outputs": []
    },
    {
      "metadata": {
        "id": "sLH__HMxQ1u5",
        "colab_type": "code",
        "colab": {}
      },
      "cell_type": "code",
      "source": [
        ""
      ],
      "execution_count": 0,
      "outputs": []
    },
    {
      "metadata": {
        "id": "L2QgiLf87RRk",
        "colab_type": "code",
        "colab": {}
      },
      "cell_type": "code",
      "source": [
        "X_train['Item_Weight'] = (X_train['Item_Weight']-mean_weight)/(std_weight)\n",
        "X_train['Item_MRP'] = (X_train['Item_MRP']-mean_mrp)/(std_mrp)"
      ],
      "execution_count": 0,
      "outputs": []
    },
    {
      "metadata": {
        "id": "U0WKrA317RRm",
        "colab_type": "code",
        "colab": {
          "base_uri": "https://localhost:8080/",
          "height": 1169
        },
        "outputId": "30c59da1-2870-4cf7-ea29-b9a7488d8e11"
      },
      "cell_type": "code",
      "source": [
        "for i in range(0,len(categorical_feature_columns),2):\n",
        "\tif len(categorical_feature_columns)>i+1:\n",
        "\t\tplt.subplot(121)\n",
        "\t\tsns.countplot(y=categorical_feature_columns[i], data=X_train)\n",
        "\t\tplt.subplot(122)\n",
        "\t\tsns.countplot(y=categorical_feature_columns[i+1], data=X_train)\n",
        "\t\tplt.tight_layout()\n",
        "\telse:\n",
        "\t\tsns.countplot(y=categorical_feature_columns[i], data=X_train)\n",
        "\tplt.show()"
      ],
      "execution_count": 234,
      "outputs": [
        {
          "output_type": "display_data",
          "data": {
            "image/png": "[encoded data removed]",
            "text/plain": [
              "<matplotlib.figure.Figure at 0x7ff6b3ca2e50>"
            ]
          },
          "metadata": {
            "tags": []
          }
        },
        {
          "output_type": "display_data",
          "data": {
            "image/png": "[encoded data removed]",
            "text/plain": [
              "<matplotlib.figure.Figure at 0x7ff6b3424a90>"
            ]
          },
          "metadata": {
            "tags": []
          }
        },
        {
          "output_type": "display_data",
          "data": {
            "image/png": "[encoded data removed]",
            "text/plain": [
              "<matplotlib.figure.Figure at 0x7ff6b510fc90>"
            ]
          },
          "metadata": {
            "tags": []
          }
        }
      ]
    },
    {
      "metadata": {
        "id": "I4mHo1sv7RRq",
        "colab_type": "code",
        "colab": {
          "base_uri": "https://localhost:8080/",
          "height": 187
        },
        "outputId": "a351db3c-9aae-47bf-987f-137d844561dc"
      },
      "cell_type": "code",
      "source": [
        "X_train['Item_Fat_Content'][X_train['Item_Fat_Content']=='LF']='low fat'\n",
        "X_train['Item_Fat_Content'][X_train['Item_Fat_Content']=='reg']='Regular'"
      ],
      "execution_count": 235,
      "outputs": [
        {
          "output_type": "stream",
          "text": [
            "/usr/local/lib/python2.7/dist-packages/ipykernel_launcher.py:1: SettingWithCopyWarning: \n",
            "A value is trying to be set on a copy of a slice from a DataFrame\n",
            "\n",
            "See the caveats in the documentation: http://pandas.pydata.org/pandas-docs/stable/indexing.html#indexing-view-versus-copy\n",
            "  \"\"\"Entry point for launching an IPython kernel.\n",
            "/usr/local/lib/python2.7/dist-packages/ipykernel_launcher.py:2: SettingWithCopyWarning: \n",
            "A value is trying to be set on a copy of a slice from a DataFrame\n",
            "\n",
            "See the caveats in the documentation: http://pandas.pydata.org/pandas-docs/stable/indexing.html#indexing-view-versus-copy\n",
            "  \n"
          ],
          "name": "stderr"
        }
      ]
    },
    {
      "metadata": {
        "id": "CrLZlu-A7RRu",
        "colab_type": "code",
        "colab": {}
      },
      "cell_type": "code",
      "source": [
        "categorical_feature_columns = list(set(categorical_feature_columns)-set('Item_Identifier'))\n",
        "encoder = preprocessing.LabelEncoder()\n",
        "for val in categorical_feature_columns:\n",
        "    X_train[val] = encoder.fit_transform(X_train[val])"
      ],
      "execution_count": 0,
      "outputs": []
    },
    {
      "metadata": {
        "id": "xgfknjyE7RRw",
        "colab_type": "code",
        "colab": {
          "base_uri": "https://localhost:8080/",
          "height": 255
        },
        "outputId": "76ba4765-c40d-48b4-da01-fe5de5b76ff5"
      },
      "cell_type": "code",
      "source": [
        "X_train.info()"
      ],
      "execution_count": 237,
      "outputs": [
        {
          "output_type": "stream",
          "text": [
            "<class 'pandas.core.frame.DataFrame'>\n",
            "Int64Index: 6818 entries, 0 to 6817\n",
            "Data columns (total 9 columns):\n",
            "Item_Identifier              6818 non-null int64\n",
            "Item_Weight                  6818 non-null float64\n",
            "Item_Fat_Content             6818 non-null int64\n",
            "Item_Visibility              6818 non-null float64\n",
            "Item_Type                    6818 non-null int64\n",
            "Item_MRP                     6818 non-null float64\n",
            "Outlet_Establishment_Year    6818 non-null int64\n",
            "Outlet_Location_Type         6818 non-null int64\n",
            "Outlet_Type                  6818 non-null int64\n",
            "dtypes: float64(3), int64(6)\n",
            "memory usage: 852.7 KB\n"
          ],
          "name": "stdout"
        }
      ]
    },
    {
      "metadata": {
        "id": "HwhS34Cb7RR1",
        "colab_type": "code",
        "colab": {
          "base_uri": "https://localhost:8080/",
          "height": 34
        },
        "outputId": "666e4c73-b3fd-470d-efc3-f3495280a240"
      },
      "cell_type": "code",
      "source": [
        "poly = preprocessing.PolynomialFeatures(3)\n",
        "poly.fit(X_train)\n",
        "fitted_X = poly.transform(X_train)\n",
        "las = linear_model.Lasso(alpha=0.0001)\n",
        "las.fit(fitted_X,y_train)\n",
        "y_predicted = las.predict(fitted_X)\n",
        "from sklearn.metrics import mean_squared_error\n",
        "mean_squared_error(y_train,y_predicted)"
      ],
      "execution_count": 238,
      "outputs": [
        {
          "output_type": "execute_result",
          "data": {
            "text/plain": [
              "1112578.8307752355"
            ]
          },
          "metadata": {
            "tags": []
          },
          "execution_count": 238
        }
      ]
    },
    {
      "metadata": {
        "id": "yavozYwQ7RR4",
        "colab_type": "code",
        "colab": {
          "base_uri": "https://localhost:8080/",
          "height": 34
        },
        "outputId": "838072d6-9bab-4356-c2b4-7eb2365c7230"
      },
      "cell_type": "code",
      "source": [
        "poly = preprocessing.PolynomialFeatures(3)\n",
        "poly.fit(X_train)\n",
        "fitted_X = poly.transform(X_train)\n",
        "las = linear_model.Lasso(alpha=0.001)\n",
        "las.fit(fitted_X,y_train)\n",
        "y_predicted = las.predict(fitted_X)\n",
        "from sklearn.metrics import mean_squared_error\n",
        "mean_squared_error(y_train,y_predicted)"
      ],
      "execution_count": 239,
      "outputs": [
        {
          "output_type": "execute_result",
          "data": {
            "text/plain": [
              "1112575.1914807458"
            ]
          },
          "metadata": {
            "tags": []
          },
          "execution_count": 239
        }
      ]
    },
    {
      "metadata": {
        "id": "7i3hm2Gu7RR9",
        "colab_type": "code",
        "colab": {
          "base_uri": "https://localhost:8080/",
          "height": 34
        },
        "outputId": "80651ec4-c4e6-4264-992a-f82ef4fbb16a"
      },
      "cell_type": "code",
      "source": [
        "poly = preprocessing.PolynomialFeatures(3)\n",
        "poly.fit(X_train)\n",
        "fitted_X = poly.transform(X_train)\n",
        "las = linear_model.Lasso(alpha=0.01)\n",
        "las.fit(fitted_X,y_train)\n",
        "y_predicted = las.predict(fitted_X)\n",
        "from sklearn.metrics import mean_squared_error\n",
        "mean_squared_error(y_train,y_predicted)"
      ],
      "execution_count": 240,
      "outputs": [
        {
          "output_type": "execute_result",
          "data": {
            "text/plain": [
              "1112592.6285711268"
            ]
          },
          "metadata": {
            "tags": []
          },
          "execution_count": 240
        }
      ]
    },
    {
      "metadata": {
        "id": "0MpPgEpc7RSB",
        "colab_type": "code",
        "colab": {
          "base_uri": "https://localhost:8080/",
          "height": 34
        },
        "outputId": "73afb086-3e97-40e7-f0ae-4e853826af28"
      },
      "cell_type": "code",
      "source": [
        "poly = preprocessing.PolynomialFeatures(5)\n",
        "poly.fit(X_train)\n",
        "fitted_X = poly.transform(X_train)\n",
        "las = linear_model.Lasso(alpha=0.01)\n",
        "las.fit(fitted_X,y_train)\n",
        "y_predicted = las.predict(fitted_X)\n",
        "from sklearn.metrics import mean_squared_error\n",
        "mean_squared_error(y_train,y_predicted)"
      ],
      "execution_count": 241,
      "outputs": [
        {
          "output_type": "execute_result",
          "data": {
            "text/plain": [
              "966217.9279336958"
            ]
          },
          "metadata": {
            "tags": []
          },
          "execution_count": 241
        }
      ]
    },
    {
      "metadata": {
        "id": "qbsuofpm7RSI",
        "colab_type": "code",
        "colab": {
          "base_uri": "https://localhost:8080/",
          "height": 34
        },
        "outputId": "327b5c0a-bdcd-4000-e13d-fd54938b22e7"
      },
      "cell_type": "code",
      "source": [
        "poly = preprocessing.PolynomialFeatures(5)\n",
        "poly.fit(X_train)\n",
        "fitted_X = poly.transform(X_train)\n",
        "las = linear_model.Lasso(alpha=0.1)\n",
        "las.fit(fitted_X,y_train)\n",
        "y_predicted = las.predict(fitted_X)\n",
        "from sklearn.metrics import mean_squared_error\n",
        "mean_squared_error(y_train,y_predicted)"
      ],
      "execution_count": 242,
      "outputs": [
        {
          "output_type": "execute_result",
          "data": {
            "text/plain": [
              "970000.3720567536"
            ]
          },
          "metadata": {
            "tags": []
          },
          "execution_count": 242
        }
      ]
    },
    {
      "metadata": {
        "id": "XWyiQHfNRSUg",
        "colab_type": "code",
        "colab": {
          "base_uri": "https://localhost:8080/",
          "height": 34
        },
        "outputId": "62a87518-89da-4d15-fb92-d88125fa9d03"
      },
      "cell_type": "code",
      "source": [
        "#scaling weight & Mrp\n",
        "poly = preprocessing.PolynomialFeatures(5)\n",
        "poly.fit(X_train)\n",
        "fitted_X = poly.transform(X_train)\n",
        "las = linear_model.Lasso(alpha=0.01)\n",
        "las.fit(fitted_X,y_train)\n",
        "y_predicted = las.predict(fitted_X)\n",
        "from sklearn.metrics import mean_squared_error\n",
        "mean_squared_error(y_train,y_predicted)"
      ],
      "execution_count": 243,
      "outputs": [
        {
          "output_type": "execute_result",
          "data": {
            "text/plain": [
              "966217.9279336958"
            ]
          },
          "metadata": {
            "tags": []
          },
          "execution_count": 243
        }
      ]
    },
    {
      "metadata": {
        "id": "0jp3bXB-TInb",
        "colab_type": "code",
        "colab": {
          "base_uri": "https://localhost:8080/",
          "height": 51
        },
        "outputId": "2827f7ae-58f6-4794-b653-882515c18c89"
      },
      "cell_type": "code",
      "source": [
        "#Correcting Visibility\n",
        "poly = preprocessing.PolynomialFeatures(5)\n",
        "poly.fit(X_train)\n",
        "fitted_X = poly.transform(X_train)\n",
        "las = linear_model.Lasso(alpha=0.01)\n",
        "las.fit(fitted_X,y_train)\n",
        "y_predicted = las.predict(fitted_X)\n",
        "from sklearn.metrics import mean_squared_error,r2_score\n",
        "print np.sqrt(mean_squared_error(y_train,y_predicted))\n",
        "print r2_score(y_train,y_predicted)"
      ],
      "execution_count": 244,
      "outputs": [
        {
          "output_type": "stream",
          "text": [
            "982.9638487420053\n",
            "0.6650592965364134\n"
          ],
          "name": "stdout"
        }
      ]
    },
    {
      "metadata": {
        "id": "WkMgQYfQWRM9",
        "colab_type": "code",
        "colab": {
          "base_uri": "https://localhost:8080/",
          "height": 187
        },
        "outputId": "2e432fa2-620e-458f-a265-8d2d812e9ef4"
      },
      "cell_type": "code",
      "source": [
        "#When using validation data\n",
        "X_validation1 = pd.merge(X_validation,Weight_values_imputed,how='left',left_on=['Item_Type'],right_on=['Item_Type'])\n",
        "X_validation1['Item_Weight_x'][X_validation1['Item_Weight_x'].isnull() ] = X_validation1['Item_Weight_y']\n",
        "X_validation = X_validation1.drop('Item_Weight_y',axis=1)\n",
        "X_validation = X_validation.rename(columns={'Item_Weight_x':'Item_Weight'})\n",
        "X_validation['Item_Visibility'][X_validation['Item_Visibility']==0.00]=0.234260\n",
        "X_validation = X_validation.drop('Outlet_Size',axis=1)\n",
        "X_validation = X_validation.drop('Outlet_Identifier',axis=1)\n",
        "X_validation['Item_Visibility']=np.sqrt(X_validation['Item_Visibility'])\n",
        "X_validation['Item_MRP']= preprocessing.maxabs_scale(X_validation['Item_MRP'][:,np.newaxis])\n",
        "X_validation['Item_Weight']= preprocessing.maxabs_scale(X_validation['Item_Weight'][:,np.newaxis])"
      ],
      "execution_count": 245,
      "outputs": [
        {
          "output_type": "stream",
          "text": [
            "/usr/local/lib/python2.7/dist-packages/ipykernel_launcher.py:2: SettingWithCopyWarning: \n",
            "A value is trying to be set on a copy of a slice from a DataFrame\n",
            "\n",
            "See the caveats in the documentation: http://pandas.pydata.org/pandas-docs/stable/indexing.html#indexing-view-versus-copy\n",
            "  \n",
            "/usr/local/lib/python2.7/dist-packages/ipykernel_launcher.py:5: SettingWithCopyWarning: \n",
            "A value is trying to be set on a copy of a slice from a DataFrame\n",
            "\n",
            "See the caveats in the documentation: http://pandas.pydata.org/pandas-docs/stable/indexing.html#indexing-view-versus-copy\n",
            "  \"\"\"\n"
          ],
          "name": "stderr"
        }
      ]
    },
    {
      "metadata": {
        "id": "IhFH0v35X_j1",
        "colab_type": "code",
        "colab": {
          "base_uri": "https://localhost:8080/",
          "height": 187
        },
        "outputId": "bcd29ff9-d637-43a5-d78b-848e8a6a48ff"
      },
      "cell_type": "code",
      "source": [
        "X_validation['Item_Weight'] = (X_validation['Item_Weight']-mean_weight)/(std_weight)\n",
        "X_validation['Item_MRP'] = (X_validation['Item_MRP']-mean_mrp)/(std_mrp)\n",
        "X_validation['Item_Fat_Content'][X_validation['Item_Fat_Content']=='LF']='low fat'\n",
        "X_validation['Item_Fat_Content'][X_validation['Item_Fat_Content']=='reg']='Regular'\n",
        "\n",
        "for val in categorical_feature_columns:\n",
        "    X_validation[val] = encoder.fit_transform(X_validation[val])"
      ],
      "execution_count": 246,
      "outputs": [
        {
          "output_type": "stream",
          "text": [
            "/usr/local/lib/python2.7/dist-packages/ipykernel_launcher.py:3: SettingWithCopyWarning: \n",
            "A value is trying to be set on a copy of a slice from a DataFrame\n",
            "\n",
            "See the caveats in the documentation: http://pandas.pydata.org/pandas-docs/stable/indexing.html#indexing-view-versus-copy\n",
            "  This is separate from the ipykernel package so we can avoid doing imports until\n",
            "/usr/local/lib/python2.7/dist-packages/ipykernel_launcher.py:4: SettingWithCopyWarning: \n",
            "A value is trying to be set on a copy of a slice from a DataFrame\n",
            "\n",
            "See the caveats in the documentation: http://pandas.pydata.org/pandas-docs/stable/indexing.html#indexing-view-versus-copy\n",
            "  after removing the cwd from sys.path.\n"
          ],
          "name": "stderr"
        }
      ]
    },
    {
      "metadata": {
        "id": "QYRqE_oQZB6B",
        "colab_type": "code",
        "colab": {
          "base_uri": "https://localhost:8080/",
          "height": 51
        },
        "outputId": "7df763f6-a9a4-49e1-a9bf-afcc22ae7126"
      },
      "cell_type": "code",
      "source": [
        "\n",
        "fitted_X = poly.transform(X_validation)\n",
        "y_predicted = las.predict(fitted_X)\n",
        "from sklearn.metrics import mean_squared_error,r2_score\n",
        "print np.sqrt(mean_squared_error(y_validation,y_predicted))\n",
        "print r2_score(y_validation,y_predicted)"
      ],
      "execution_count": 247,
      "outputs": [
        {
          "output_type": "stream",
          "text": [
            "1208.7900205372907\n",
            "0.5155661552237958\n"
          ],
          "name": "stdout"
        }
      ]
    },
    {
      "metadata": {
        "id": "W0EOH-1FZ_9L",
        "colab_type": "code",
        "colab": {
          "base_uri": "https://localhost:8080/",
          "height": 292
        },
        "outputId": "14aa17e8-c534-49c1-e746-dc81cb227aee"
      },
      "cell_type": "code",
      "source": [
        "#checking on test data\n",
        "path = 'Test.csv'\n",
        "test_data = pd.read_csv(path)\n",
        "test_data.head()"
      ],
      "execution_count": 252,
      "outputs": [
        {
          "output_type": "execute_result",
          "data": {
            "text/html": [
              "<div>\n",
              "<style scoped>\n",
              "    .dataframe tbody tr th:only-of-type {\n",
              "        vertical-align: middle;\n",
              "    }\n",
              "\n",
              "    .dataframe tbody tr th {\n",
              "        vertical-align: top;\n",
              "    }\n",
              "\n",
              "    .dataframe thead th {\n",
              "        text-align: right;\n",
              "    }\n",
              "</style>\n",
              "<table border=\"1\" class=\"dataframe\">\n",
              "  <thead>\n",
              "    <tr style=\"text-align: right;\">\n",
              "      <th></th>\n",
              "      <th>Item_Identifier</th>\n",
              "      <th>Item_Weight</th>\n",
              "      <th>Item_Fat_Content</th>\n",
              "      <th>Item_Visibility</th>\n",
              "      <th>Item_Type</th>\n",
              "      <th>Item_MRP</th>\n",
              "      <th>Outlet_Identifier</th>\n",
              "      <th>Outlet_Establishment_Year</th>\n",
              "      <th>Outlet_Size</th>\n",
              "      <th>Outlet_Location_Type</th>\n",
              "      <th>Outlet_Type</th>\n",
              "    </tr>\n",
              "  </thead>\n",
              "  <tbody>\n",
              "    <tr>\n",
              "      <th>0</th>\n",
              "      <td>FDW58</td>\n",
              "      <td>20.750</td>\n",
              "      <td>Low Fat</td>\n",
              "      <td>0.007565</td>\n",
              "      <td>Snack Foods</td>\n",
              "      <td>107.8622</td>\n",
              "      <td>OUT049</td>\n",
              "      <td>1999</td>\n",
              "      <td>Medium</td>\n",
              "      <td>Tier 1</td>\n",
              "      <td>Supermarket Type1</td>\n",
              "    </tr>\n",
              "    <tr>\n",
              "      <th>1</th>\n",
              "      <td>FDW14</td>\n",
              "      <td>8.300</td>\n",
              "      <td>reg</td>\n",
              "      <td>0.038428</td>\n",
              "      <td>Dairy</td>\n",
              "      <td>87.3198</td>\n",
              "      <td>OUT017</td>\n",
              "      <td>2007</td>\n",
              "      <td>NaN</td>\n",
              "      <td>Tier 2</td>\n",
              "      <td>Supermarket Type1</td>\n",
              "    </tr>\n",
              "    <tr>\n",
              "      <th>2</th>\n",
              "      <td>NCN55</td>\n",
              "      <td>14.600</td>\n",
              "      <td>Low Fat</td>\n",
              "      <td>0.099575</td>\n",
              "      <td>Others</td>\n",
              "      <td>241.7538</td>\n",
              "      <td>OUT010</td>\n",
              "      <td>1998</td>\n",
              "      <td>NaN</td>\n",
              "      <td>Tier 3</td>\n",
              "      <td>Grocery Store</td>\n",
              "    </tr>\n",
              "    <tr>\n",
              "      <th>3</th>\n",
              "      <td>FDQ58</td>\n",
              "      <td>7.315</td>\n",
              "      <td>Low Fat</td>\n",
              "      <td>0.015388</td>\n",
              "      <td>Snack Foods</td>\n",
              "      <td>155.0340</td>\n",
              "      <td>OUT017</td>\n",
              "      <td>2007</td>\n",
              "      <td>NaN</td>\n",
              "      <td>Tier 2</td>\n",
              "      <td>Supermarket Type1</td>\n",
              "    </tr>\n",
              "    <tr>\n",
              "      <th>4</th>\n",
              "      <td>FDY38</td>\n",
              "      <td>NaN</td>\n",
              "      <td>Regular</td>\n",
              "      <td>0.118599</td>\n",
              "      <td>Dairy</td>\n",
              "      <td>234.2300</td>\n",
              "      <td>OUT027</td>\n",
              "      <td>1985</td>\n",
              "      <td>Medium</td>\n",
              "      <td>Tier 3</td>\n",
              "      <td>Supermarket Type3</td>\n",
              "    </tr>\n",
              "  </tbody>\n",
              "</table>\n",
              "</div>"
            ],
            "text/plain": [
              "  Item_Identifier  Item_Weight Item_Fat_Content  Item_Visibility    Item_Type  \\\n",
              "0           FDW58       20.750          Low Fat         0.007565  Snack Foods   \n",
              "1           FDW14        8.300              reg         0.038428        Dairy   \n",
              "2           NCN55       14.600          Low Fat         0.099575       Others   \n",
              "3           FDQ58        7.315          Low Fat         0.015388  Snack Foods   \n",
              "4           FDY38          NaN          Regular         0.118599        Dairy   \n",
              "\n",
              "   Item_MRP Outlet_Identifier  Outlet_Establishment_Year Outlet_Size  \\\n",
              "0  107.8622            OUT049                       1999      Medium   \n",
              "1   87.3198            OUT017                       2007         NaN   \n",
              "2  241.7538            OUT010                       1998         NaN   \n",
              "3  155.0340            OUT017                       2007         NaN   \n",
              "4  234.2300            OUT027                       1985      Medium   \n",
              "\n",
              "  Outlet_Location_Type        Outlet_Type  \n",
              "0               Tier 1  Supermarket Type1  \n",
              "1               Tier 2  Supermarket Type1  \n",
              "2               Tier 3      Grocery Store  \n",
              "3               Tier 2  Supermarket Type1  \n",
              "4               Tier 3  Supermarket Type3  "
            ]
          },
          "metadata": {
            "tags": []
          },
          "execution_count": 252
        }
      ]
    },
    {
      "metadata": {
        "id": "kXsSAt0UaVoX",
        "colab_type": "code",
        "colab": {
          "base_uri": "https://localhost:8080/",
          "height": 187
        },
        "outputId": "933878a2-54d0-4f30-cbb5-2ae2478d93b8"
      },
      "cell_type": "code",
      "source": [
        "test_data1 = pd.merge(test_data,Weight_values_imputed,how='left',left_on=['Item_Type'],right_on=['Item_Type'])\n",
        "test_data1['Item_Weight_x'][test_data1['Item_Weight_x'].isnull() ] = test_data1['Item_Weight_y']\n",
        "test_data = test_data1.drop('Item_Weight_y',axis=1)\n",
        "test_data = test_data.rename(columns={'Item_Weight_x':'Item_Weight'})\n",
        "test_data['Item_Visibility'][test_data['Item_Visibility']==0.00]=0.234260\n",
        "test_data = test_data.drop('Outlet_Size',axis=1)\n",
        "test_data = test_data.drop('Outlet_Identifier',axis=1)\n",
        "test_data['Item_Visibility']=np.sqrt(test_data['Item_Visibility'])\n",
        "test_data['Item_MRP']= preprocessing.maxabs_scale(test_data['Item_MRP'][:,np.newaxis])\n",
        "test_data['Item_Weight']= preprocessing.maxabs_scale(test_data['Item_Weight'][:,np.newaxis])"
      ],
      "execution_count": 253,
      "outputs": [
        {
          "output_type": "stream",
          "text": [
            "/usr/local/lib/python2.7/dist-packages/ipykernel_launcher.py:2: SettingWithCopyWarning: \n",
            "A value is trying to be set on a copy of a slice from a DataFrame\n",
            "\n",
            "See the caveats in the documentation: http://pandas.pydata.org/pandas-docs/stable/indexing.html#indexing-view-versus-copy\n",
            "  \n",
            "/usr/local/lib/python2.7/dist-packages/ipykernel_launcher.py:5: SettingWithCopyWarning: \n",
            "A value is trying to be set on a copy of a slice from a DataFrame\n",
            "\n",
            "See the caveats in the documentation: http://pandas.pydata.org/pandas-docs/stable/indexing.html#indexing-view-versus-copy\n",
            "  \"\"\"\n"
          ],
          "name": "stderr"
        }
      ]
    },
    {
      "metadata": {
        "id": "ZHYptoacamnb",
        "colab_type": "code",
        "colab": {
          "base_uri": "https://localhost:8080/",
          "height": 187
        },
        "outputId": "d0a41c90-adbc-45a0-f554-3722e08a89a1"
      },
      "cell_type": "code",
      "source": [
        "test_data['Item_Weight'] = (test_data['Item_Weight']-mean_weight)/(std_weight)\n",
        "test_data['Item_MRP'] = (test_data['Item_MRP']-mean_mrp)/(std_mrp)\n",
        "test_data['Item_Fat_Content'][test_data['Item_Fat_Content']=='LF']='low fat'\n",
        "test_data['Item_Fat_Content'][test_data['Item_Fat_Content']=='reg']='Regular'\n",
        "\n",
        "for val in categorical_feature_columns:\n",
        "    test_data[val] = encoder.fit_transform(test_data[val])"
      ],
      "execution_count": 254,
      "outputs": [
        {
          "output_type": "stream",
          "text": [
            "/usr/local/lib/python2.7/dist-packages/ipykernel_launcher.py:3: SettingWithCopyWarning: \n",
            "A value is trying to be set on a copy of a slice from a DataFrame\n",
            "\n",
            "See the caveats in the documentation: http://pandas.pydata.org/pandas-docs/stable/indexing.html#indexing-view-versus-copy\n",
            "  This is separate from the ipykernel package so we can avoid doing imports until\n",
            "/usr/local/lib/python2.7/dist-packages/ipykernel_launcher.py:4: SettingWithCopyWarning: \n",
            "A value is trying to be set on a copy of a slice from a DataFrame\n",
            "\n",
            "See the caveats in the documentation: http://pandas.pydata.org/pandas-docs/stable/indexing.html#indexing-view-versus-copy\n",
            "  after removing the cwd from sys.path.\n"
          ],
          "name": "stderr"
        }
      ]
    },
    {
      "metadata": {
        "id": "hsCXvRzFaxl0",
        "colab_type": "code",
        "colab": {}
      },
      "cell_type": "code",
      "source": [
        "fitted_X = poly.transform(test_data)\n",
        "y_predicted = las.predict(fitted_X)"
      ],
      "execution_count": 0,
      "outputs": []
    },
    {
      "metadata": {
        "id": "FKFeYKKOdsNw",
        "colab_type": "code",
        "colab": {}
      },
      "cell_type": "code",
      "source": [
        "y_pred = pd.DataFrame(y_predicted)\n",
        "y_pred.to_csv(\"Prediction.csv\")"
      ],
      "execution_count": 0,
      "outputs": []
    },
    {
      "metadata": {
        "id": "SouRIFVvesgs",
        "colab_type": "code",
        "colab": {}
      },
      "cell_type": "code",
      "source": [
        "files.download(\"Prediction.csv\")"
      ],
      "execution_count": 0,
      "outputs": []
    }
  ]
}